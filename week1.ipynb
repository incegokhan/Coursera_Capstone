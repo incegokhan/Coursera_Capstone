{
 "cells": [
  {
   "cell_type": "markdown",
   "metadata": {},
   "source": [
    "# Introduction"
   ]
  },
  {
   "cell_type": "markdown",
   "metadata": {},
   "source": [
    "### My project targets the people who wants to move to Istanbul, Turkey. I will try to give them many suggestions based on their preferences and expectations. I will try to find them the neighborhoods that they can enjoy to live."
   ]
  },
  {
   "cell_type": "markdown",
   "metadata": {},
   "source": [
    "# Problem"
   ]
  },
  {
   "cell_type": "markdown",
   "metadata": {},
   "source": [
    "### Istanbul is a big city and it is very multicultural. In this project, i will focus on what kind of customers prefers to live in which kind of neighborhoods. So, which neighborhoods can make them happier. The neighborhoods should satisfy the needs of my clients. The clients who has different backgrounds would like live in a neighborhoods which can feel them comfortable. I should be able to give them suggestions to satify their needs."
   ]
  },
  {
   "cell_type": "markdown",
   "metadata": {},
   "source": [
    "# Discussion"
   ]
  },
  {
   "cell_type": "markdown",
   "metadata": {},
   "source": [
    "### Now, we can discuss about the problem that i mentioned. Firstly, i should analyze the neighborhoods and detect what kind of venues these neighborhoods have. After that i should group them based on client needs. Different kind of people wants to be close to different type of places. For example, some poeple likes to be close entertainment venues like bars, clubs etc, some people likes to be close to historical places, some people are religious and they want to be close temples like mosques, churches etc. I need to detect their needs and find the perfect neighborhoods for them to satisfy their needs."
   ]
  },
  {
   "cell_type": "markdown",
   "metadata": {},
   "source": [
    "# About Data"
   ]
  },
  {
   "cell_type": "markdown",
   "metadata": {},
   "source": [
    "### I have some ideas about detecting the required data. First, i will detect the zip code, latitude and longitude values of the neighborhoods. I will convert and keep them in a dataframe. After that I will use some loops to get information from Foursquare API by using the latitude and longitude information of the neighboorhoods. After that i will merge those dataframes based on the postal codes. Then i will create new categories based on venue categories. For example bar, clubs etc will be under entertainment category, palaces, museums etc will be under another category, mosques, churches etc will be under another category. Also, i will have different dataframes by using to data to filter it. At last, I will detect the client needs and then i will be able to suggest them neighborhoods to move based on their needs."
   ]
  }
 ],
 "metadata": {
  "kernelspec": {
   "display_name": "Python 3",
   "language": "python",
   "name": "python3"
  },
  "language_info": {
   "codemirror_mode": {
    "name": "ipython",
    "version": 3
   },
   "file_extension": ".py",
   "mimetype": "text/x-python",
   "name": "python",
   "nbconvert_exporter": "python",
   "pygments_lexer": "ipython3",
   "version": "3.7.4"
  }
 },
 "nbformat": 4,
 "nbformat_minor": 2
}
